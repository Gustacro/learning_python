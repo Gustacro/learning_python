{
 "cells": [
  {
   "cell_type": "markdown",
   "metadata": {},
   "source": [
    "## Dictionary Exercises \n",
    "### Date: 01/13/2020"
   ]
  },
  {
   "cell_type": "markdown",
   "metadata": {},
   "source": [
    "Exercise 4: Check if given key and value already exists in dictionary"
   ]
  },
  {
   "cell_type": "code",
   "execution_count": 1,
   "metadata": {},
   "outputs": [],
   "source": [
    "# create a dictionary\n",
    "employee = {'name': 'Maria', 'age': 26, 'phone': '555-5555'}"
   ]
  },
  {
   "cell_type": "code",
   "execution_count": 8,
   "metadata": {},
   "outputs": [
    {
     "name": "stdout",
     "output_type": "stream",
     "text": [
      "the key name does exists in employee dictionary\n"
     ]
    }
   ],
   "source": [
    "# check if key exists\n",
    "def if_exists(dict, key):\n",
    "    if key in employee.keys():\n",
    "        return(f'the key {key} does exists in employee dictionary')\n",
    "        return(key, ':', employee[key]) # return the key and it value\n",
    "\n",
    "    else:\n",
    "        return(f'The given key {key} does not exists in the employee dictionary')\n",
    "\n",
    "# define key to check for \n",
    "key = 'name'\n",
    "# run function\n",
    "print(if_exists(employee, key))"
   ]
  },
  {
   "cell_type": "code",
   "execution_count": 10,
   "metadata": {},
   "outputs": [
    {
     "name": "stdout",
     "output_type": "stream",
     "text": [
      "The value 26 in dictionary exists\n"
     ]
    }
   ],
   "source": [
    "# Check if value exists in dictionary\n",
    "\n",
    "def if_exists(dict, value):\n",
    "    if value in employee.values():\n",
    "        return(f'The value {value} in dictionary exists')\n",
    "\n",
    "    else:\n",
    "        return(f'The given value {value} does not exists in dictionary')\n",
    "\n",
    "# define value \n",
    "value = 26\n",
    "# run function\n",
    "print(if_exists(employee, value))"
   ]
  },
  {
   "cell_type": "markdown",
   "metadata": {},
   "source": [
    "Exercise 5: Script that iterates over dictionaries using for LOOPS"
   ]
  },
  {
   "cell_type": "code",
   "execution_count": 16,
   "metadata": {},
   "outputs": [],
   "source": [
    "# Create dictionary\n",
    "dict_1 = {3: 'c', 5: 'e', 2: 'b',  4: 'd', 1: 'a'}"
   ]
  },
  {
   "cell_type": "code",
   "execution_count": 55,
   "metadata": {},
   "outputs": [],
   "source": [
    "# solution 1\n",
    "def loop_dict(arg):\n",
    "    return([(k,'->', v) for k, v in arg.items()])"
   ]
  },
  {
   "cell_type": "code",
   "execution_count": 56,
   "metadata": {},
   "outputs": [
    {
     "data": {
      "text/plain": [
       "[(3, '->', 'c'),\n",
       " (5, '->', 'e'),\n",
       " (2, '->', 'b'),\n",
       " (4, '->', 'd'),\n",
       " (1, '->', 'a')]"
      ]
     },
     "execution_count": 56,
     "metadata": {},
     "output_type": "execute_result"
    }
   ],
   "source": [
    "loop_dict(dict_1)"
   ]
  },
  {
   "cell_type": "code",
   "execution_count": 57,
   "metadata": {},
   "outputs": [
    {
     "name": "stdout",
     "output_type": "stream",
     "text": [
      "3 -> c\n",
      "5 -> e\n",
      "2 -> b\n",
      "4 -> d\n",
      "1 -> a\n"
     ]
    }
   ],
   "source": [
    "# solution 2\n",
    "for key, value in dict_1.items():\n",
    "    print(key, '->', value)"
   ]
  },
  {
   "cell_type": "markdown",
   "metadata": {},
   "source": [
    "Exercise 6: Generate and print a dictionary that contains a number (between 1 and n) \n",
    "in the form (x, x*x)"
   ]
  },
  {
   "cell_type": "code",
   "execution_count": 90,
   "metadata": {},
   "outputs": [
    {
     "name": "stdout",
     "output_type": "stream",
     "text": [
      "Enter max key value: 10\n"
     ]
    }
   ],
   "source": [
    "# input max key value\n",
    "n = int(input('Enter max key value: '))\n",
    "\n",
    "def dict_generator(n):\n",
    "    dict_2 = ((key, key**2) for key in range(1,n+1))\n",
    "    dict_2 = dict(dict_2)\n",
    "    return dict_2\n",
    "\n",
    "# dict_2 = dict(dict_2)\n"
   ]
  },
  {
   "cell_type": "code",
   "execution_count": 91,
   "metadata": {},
   "outputs": [
    {
     "name": "stdout",
     "output_type": "stream",
     "text": [
      "{1: 1, 2: 4, 3: 9, 4: 16, 5: 25, 6: 36, 7: 49, 8: 64, 9: 81, 10: 100}\n"
     ]
    }
   ],
   "source": [
    "print(dict_generator(n))"
   ]
  },
  {
   "cell_type": "markdown",
   "metadata": {},
   "source": [
    "Exercise 7: Generate a dictionary where the key are numbers between 1 and 15 (both included) and the value are square of keys"
   ]
  },
  {
   "cell_type": "code",
   "execution_count": 99,
   "metadata": {},
   "outputs": [],
   "source": [
    "# generate dictionary between 1 & 15 included\n",
    "def gen_dict(n):\n",
    "    dict_3 = ((key, key**2) for key in range(1,n+1))\n",
    "    dict_3 = dict(dict_3)\n",
    "    return dict_3\n",
    "\n",
    "n = 15"
   ]
  },
  {
   "cell_type": "code",
   "execution_count": 101,
   "metadata": {},
   "outputs": [
    {
     "name": "stdout",
     "output_type": "stream",
     "text": [
      "{1: 1, 2: 4, 3: 9, 4: 16, 5: 25, 6: 36, 7: 49, 8: 64, 9: 81, 10: 100, 11: 121, 12: 144, 13: 169, 14: 196, 15: 225}\n"
     ]
    }
   ],
   "source": [
    "print(gen_dict(n))"
   ]
  },
  {
   "cell_type": "markdown",
   "metadata": {},
   "source": [
    "Exercise 8: Nst two dictionaries"
   ]
  },
  {
   "cell_type": "code",
   "execution_count": 157,
   "metadata": {},
   "outputs": [],
   "source": [
    "dict_1 = dict(week = ['Mon','Tue','Wed', 'Thu', 'Fri'])\n",
    "dict_2 = dict(vowles = ['a', 'e', 'i', 'o', 'u'])\n",
    "\n",
    "def dict_merged(*args):\n",
    "    merged = {}\n",
    "    # solution 1: dict comprehension\n",
    "    \n",
    "    merged == {merged.update(d) for d in (dict_1, dict_2)} \n",
    "    # solution 2\n",
    "#     for d in (dict_1, dict_2):\n",
    "#         merged.update(d)\n",
    "    return merged\n",
    "\n",
    "\n",
    "nested = dict_merged(dict_1, dict_2)"
   ]
  },
  {
   "cell_type": "code",
   "execution_count": 158,
   "metadata": {},
   "outputs": [
    {
     "name": "stdout",
     "output_type": "stream",
     "text": [
      "Nested Dictionary: \n",
      " {'week': ['Mon', 'Tue', 'Wed', 'Thu', 'Fri'], 'vowles': ['a', 'e', 'i', 'o', 'u']}\n"
     ]
    }
   ],
   "source": [
    "\n",
    "print(f'Nested Dictionary: \\n {nested}')\n"
   ]
  },
  {
   "cell_type": "markdown",
   "metadata": {},
   "source": [
    "Exercise 9: Iterate over dictionaries using fop LOOPS"
   ]
  },
  {
   "cell_type": "code",
   "execution_count": 160,
   "metadata": {},
   "outputs": [],
   "source": [
    "employee = dict(Gustavo= 36, school= 'PSU', courses= ['analysis', 'math', 'Geo'])"
   ]
  },
  {
   "cell_type": "code",
   "execution_count": 164,
   "metadata": {},
   "outputs": [
    {
     "name": "stdout",
     "output_type": "stream",
     "text": [
      "Gustavo-> 36\n",
      "school-> PSU\n",
      "courses-> ['analysis', 'math', 'Geo']\n"
     ]
    }
   ],
   "source": [
    "# iterate using for LOOP\n",
    "for key, value in employee.items():\n",
    "    print(f'{key}-> {value}')\n"
   ]
  },
  {
   "cell_type": "markdown",
   "metadata": {},
   "source": [
    "Exercise 10: sum all the item in a dictionary"
   ]
  },
  {
   "cell_type": "code",
   "execution_count": 189,
   "metadata": {},
   "outputs": [],
   "source": [
    "# create dictionary\n",
    "dict_4 = dict(a=  1,b=  2,  c= 30, d= 4, e= 45)\n",
    "\n",
    "# sum all values using sum() function\n",
    "def sum_values(arg):\n",
    "    sum_val = sum(arg.values())\n",
    "    return sum_val"
   ]
  },
  {
   "cell_type": "code",
   "execution_count": 191,
   "metadata": {},
   "outputs": [
    {
     "name": "stdout",
     "output_type": "stream",
     "text": [
      "The summ of all values from dictionary is: 82\n"
     ]
    }
   ],
   "source": [
    "sum_all_val = sum_values(dict_4)\n",
    "print(f'The summ of all values from dictionary is: {sum_all_val}')"
   ]
  },
  {
   "cell_type": "markdown",
   "metadata": {},
   "source": []
  }
 ],
 "metadata": {
  "kernelspec": {
   "display_name": "Python 3",
   "language": "python",
   "name": "python3"
  },
  "language_info": {
   "codemirror_mode": {
    "name": "ipython",
    "version": 3
   },
   "file_extension": ".py",
   "mimetype": "text/x-python",
   "name": "python",
   "nbconvert_exporter": "python",
   "pygments_lexer": "ipython3",
   "version": "3.6.8"
  }
 },
 "nbformat": 4,
 "nbformat_minor": 2
}
